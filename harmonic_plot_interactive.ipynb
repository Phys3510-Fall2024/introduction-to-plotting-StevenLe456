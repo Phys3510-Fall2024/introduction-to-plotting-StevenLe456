{
 "cells": [
  {
   "cell_type": "code",
   "execution_count": 1,
   "metadata": {},
   "outputs": [],
   "source": [
    "import numpy as np\n",
    "from ipywidgets import interact, FloatSlider, IntSlider\n",
    "import matplotlib.pyplot as plt"
   ]
  },
  {
   "cell_type": "markdown",
   "metadata": {},
   "source": [
    "First, we define the harmonic coupled oscillator as a function."
   ]
  },
  {
   "cell_type": "code",
   "execution_count": 2,
   "metadata": {},
   "outputs": [],
   "source": [
    "def coupled_harmonic(k1, k2, q1, q2, c):\n",
    "    return (0.5 * k1 * q1 ** 2) + (0.5 * k2 * q2 ** 2) + (c * q1 * q2 ** 2)"
   ]
  },
  {
   "cell_type": "markdown",
   "metadata": {},
   "source": [
    "This function will create a plot with multiple panels."
   ]
  },
  {
   "cell_type": "code",
   "execution_count": 3,
   "metadata": {},
   "outputs": [],
   "source": [
    "def plot_harmonic(k1=1, k2=1, c=1):\n",
    "    # define x,y min, max\n",
    "    x_min = -10\n",
    "    x_max = 10\n",
    "    y_min = -10\n",
    "    y_max = 10\n",
    "    \n",
    "    # Generate the grid\n",
    "    q1 = np.linspace(x_min, x_max, 400)\n",
    "    q2 = np.linspace(y_min, y_max, 400)\n",
    "    Q1, Q2 = np.meshgrid(q1, q2)\n",
    "\n",
    "    # Create the figure\n",
    "    plt.figure(figsize=(12, 4))\n",
    "\n",
    "    #Create the first subplot\n",
    "    plt.subplot(1, 2, 1)\n",
    "    q2_0 = coupled_harmonic(k1, k2, q1, 0, c)\n",
    "    q2_2 = coupled_harmonic(k1, k2, q1, 2, c)\n",
    "    q2_4 = coupled_harmonic(k1, k2, q1, 4, c)\n",
    "    plt.plot(q1, q2_0, color=\"red\", label=\"Q2 = 0\")\n",
    "    plt.plot(q1, q2_2, color=\"green\", label=\"Q2 = 2\")\n",
    "    plt.plot(q1, q2_4, color=\"purple\", label=\"Q2 = 4\")\n",
    "    plt.legend(fontsize=12)\n",
    "    plt.xlabel('Q1', fontsize=12)\n",
    "    plt.ylabel('Potential Energy', fontsize=12)\n",
    "    plt.title(\"Q1 vs. Potential Energy\", fontsize=14)\n",
    "    plt.xlim([x_min, x_max])\n",
    "    plt.ylim([y_min, y_max])\n",
    "\n",
    "    #Create the seccond subplot\n",
    "    plt.subplot(1, 2, 2)\n",
    "    u = coupled_harmonic(k1, k2, Q1, Q2, c)\n",
    "    plt.contourf(Q1, Q2, u, levels=10, cmap=\"viridis\")\n",
    "    contour_lines = plt.contour(Q1, Q2, u, levels=10, colors=\"black\", linewidths=1)\n",
    "    plt.clabel(contour_lines, inline=True, fontsize=10, fmt=\"%1.0f\")\n",
    "    plt.xlabel(\"Q1\", fontsize=12)\n",
    "    plt.ylabel(\"Q2\", fontsize=12)\n",
    "    plt.xlim([x_min, x_max])\n",
    "    plt.ylim([y_min, y_max])\n",
    "    plt.title(\"Q1, Q2 vs Potential Energy Contour Plot\", fontsize=14)\n"
   ]
  },
  {
   "cell_type": "markdown",
   "metadata": {},
   "source": [
    "This will make the plot interactive."
   ]
  },
  {
   "cell_type": "code",
   "execution_count": 4,
   "metadata": {},
   "outputs": [
    {
     "data": {
      "application/vnd.jupyter.widget-view+json": {
       "model_id": "5b8e2e55165745fc86b94d2f3de46a12",
       "version_major": 2,
       "version_minor": 0
      },
      "text/plain": [
       "interactive(children=(FloatSlider(value=1.0, description='K1', max=5.0, min=-5.0), FloatSlider(value=1.0, desc…"
      ]
     },
     "metadata": {},
     "output_type": "display_data"
    }
   ],
   "source": [
    "interact(plot_harmonic, \n",
    "k1=FloatSlider(min=-5, max=5, step=0.1, value=1, description=\"K1\"),\n",
    "k2=FloatSlider(min=-5, max=5, step=0.1, value=1, description=\"K2\"),\n",
    "c=FloatSlider(min=-5, max=5, step=0.1, value=1, description=\"C\")\n",
    ")\n",
    "plt.show()"
   ]
  },
  {
   "cell_type": "markdown",
   "metadata": {},
   "source": [
    "1. As C increases, the low energy contours decreaseon the left hand side and increase on the right hand side of the zero countour.\n",
    "\n",
    "2. No, the direction of Q2 does not change the force of Q1.\n",
    "\n",
    "3. Increasing the magnitude of Q2 will result in Q1's equilibiurm point decreasing.\n",
    "\n",
    "4. As Q1 is knocked from equilibrium, Q2 will oscillate at a slower rate."
   ]
  }
 ],
 "metadata": {
  "kernelspec": {
   "display_name": ".venv",
   "language": "python",
   "name": "python3"
  },
  "language_info": {
   "codemirror_mode": {
    "name": "ipython",
    "version": 3
   },
   "file_extension": ".py",
   "mimetype": "text/x-python",
   "name": "python",
   "nbconvert_exporter": "python",
   "pygments_lexer": "ipython3",
   "version": "3.12.6"
  }
 },
 "nbformat": 4,
 "nbformat_minor": 2
}
